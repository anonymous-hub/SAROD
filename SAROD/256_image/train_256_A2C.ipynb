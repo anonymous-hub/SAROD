{
 "cells": [
  {
   "cell_type": "markdown",
   "metadata": {},
   "source": [
    "## Jupyter kernel이 Python 2일 경우, 다음 cell을 실행시켜주세요."
   ]
  },
  {
   "cell_type": "code",
   "execution_count": 1,
   "metadata": {},
   "outputs": [],
   "source": [
    "# !python3 -m ipykernel install --user"
   ]
  },
  {
   "cell_type": "markdown",
   "metadata": {},
   "source": [
    "## Jupyter kernel이 Python 3일 경우, 다음 cell부터 실행시켜주세요."
   ]
  },
  {
   "cell_type": "code",
   "execution_count": 2,
   "metadata": {},
   "outputs": [
    {
     "name": "stdout",
     "output_type": "stream",
     "text": [
      "Looking in links: https://download.pytorch.org/whl/torch_stable.html\n",
      "Requirement already satisfied: torch==1.5.1+cu101 in /home/cutz/.local/lib/python3.7/site-packages (1.5.1+cu101)\n",
      "Requirement already satisfied: torchvision==0.6.1+cu101 in /home/cutz/.local/lib/python3.7/site-packages (0.6.1+cu101)\n",
      "Requirement already satisfied: numpy in /home/cutz/.local/lib/python3.7/site-packages (from torch==1.5.1+cu101) (1.19.0)\n",
      "Requirement already satisfied: future in /home/cutz/.local/lib/python3.7/site-packages (from torch==1.5.1+cu101) (0.18.2)\n",
      "Requirement already satisfied: pillow>=4.1.1 in /home/cutz/.local/lib/python3.7/site-packages (from torchvision==0.6.1+cu101) (7.0.0)\n",
      "Requirement already satisfied: pillow==7.0.0 in /home/cutz/.local/lib/python3.7/site-packages (from -r requirements.txt (line 1)) (7.0.0)\n",
      "Requirement already satisfied: tqdm in /home/cutz/.local/lib/python3.7/site-packages (from -r requirements.txt (line 2)) (4.46.1)\n",
      "Requirement already satisfied: opencv-python==4.2.0.34 in /home/cutz/.local/lib/python3.7/site-packages (from -r requirements.txt (line 3)) (4.2.0.34)\n",
      "Requirement already satisfied: pandas in /home/cutz/.local/lib/python3.7/site-packages (from -r requirements.txt (line 4)) (1.0.5)\n",
      "Requirement already satisfied: matplotlib in /home/cutz/.local/lib/python3.7/site-packages (from -r requirements.txt (line 5)) (3.2.2)\n",
      "Requirement already satisfied: numpy>=1.14.5 in /home/cutz/.local/lib/python3.7/site-packages (from opencv-python==4.2.0.34->-r requirements.txt (line 3)) (1.19.0)\n",
      "Requirement already satisfied: python-dateutil>=2.6.1 in /home/cutz/.conda/envs/test2/lib/python3.7/site-packages (from pandas->-r requirements.txt (line 4)) (2.8.1)\n",
      "Requirement already satisfied: pytz>=2017.2 in /home/cutz/.local/lib/python3.7/site-packages (from pandas->-r requirements.txt (line 4)) (2020.1)\n",
      "Requirement already satisfied: cycler>=0.10 in /home/cutz/.local/lib/python3.7/site-packages (from matplotlib->-r requirements.txt (line 5)) (0.10.0)\n",
      "Requirement already satisfied: pyparsing!=2.0.4,!=2.1.2,!=2.1.6,>=2.0.1 in /home/cutz/.conda/envs/test2/lib/python3.7/site-packages (from matplotlib->-r requirements.txt (line 5)) (2.4.7)\n",
      "Requirement already satisfied: kiwisolver>=1.0.1 in /home/cutz/.local/lib/python3.7/site-packages (from matplotlib->-r requirements.txt (line 5)) (1.2.0)\n",
      "Requirement already satisfied: six>=1.5 in /home/cutz/.conda/envs/test2/lib/python3.7/site-packages (from python-dateutil>=2.6.1->pandas->-r requirements.txt (line 4)) (1.15.0)\n"
     ]
    }
   ],
   "source": [
    "!pip install torch==1.5.1+cu101 torchvision==0.6.1+cu101 -f https://download.pytorch.org/whl/torch_stable.html --user\n",
    "!pip install -r requirements.txt --user"
   ]
  },
  {
   "cell_type": "markdown",
   "metadata": {},
   "source": [
    "# RLTraining"
   ]
  },
  {
   "cell_type": "code",
   "execution_count": 3,
   "metadata": {},
   "outputs": [],
   "source": [
    "import warnings\n",
    "warnings.simplefilter(\"ignore\")"
   ]
  },
  {
   "cell_type": "code",
   "execution_count": 4,
   "metadata": {
    "scrolled": true
   },
   "outputs": [
    {
     "name": "stdout",
     "output_type": "stream",
     "text": [
      "GPU device  True\n",
      "100%|█████████████████████████████████████████████| 2/2 [00:00<00:00,  5.02it/s]\n",
      "Train: 0 | Rw: 0.762500 | S: 1.500 | V: 0.707 | #: 2\n",
      "100%|█████████████████████████████████████████████| 2/2 [00:00<00:00,  7.49it/s]\n",
      "Train: 1 | Rw: 0.500000 | S: 2.000 | V: 0.000 | #: 2\n",
      "100%|█████████████████████████████████████████████| 2/2 [00:00<00:00,  7.99it/s]\n",
      "Train: 2 | Rw: 0.262500 | S: 1.500 | V: 0.707 | #: 2\n",
      "100%|█████████████████████████████████████████████| 2/2 [00:00<00:00,  7.51it/s]\n",
      "Train: 3 | Rw: -0.262500 | S: 2.500 | V: 0.707 | #: 2\n",
      "100%|█████████████████████████████████████████████| 2/2 [00:00<00:00,  7.49it/s]\n",
      "Train: 4 | Rw: 0.762500 | S: 1.500 | V: 0.707 | #: 2\n",
      "100%|█████████████████████████████████████████████| 2/2 [00:00<00:00,  6.58it/s]\n",
      "Train: 5 | Rw: -0.262500 | S: 2.500 | V: 0.707 | #: 2\n",
      "100%|█████████████████████████████████████████████| 2/2 [00:00<00:00,  7.24it/s]\n",
      "Train: 6 | Rw: 0.262500 | S: 1.500 | V: 0.707 | #: 2\n",
      "100%|█████████████████████████████████████████████| 2/2 [00:00<00:00,  8.23it/s]\n",
      "Train: 7 | Rw: 0.500000 | S: 2.000 | V: 1.414 | #: 2\n",
      "100%|█████████████████████████████████████████████| 2/2 [00:00<00:00,  6.95it/s]\n",
      "Train: 8 | Rw: 0.262500 | S: 1.500 | V: 0.707 | #: 2\n",
      "100%|█████████████████████████████████████████████| 2/2 [00:00<00:00,  7.50it/s]\n",
      "Train: 9 | Rw: 0.237500 | S: 2.500 | V: 0.707 | #: 2\n",
      "100%|█████████████████████████████████████████████| 2/2 [00:00<00:00,  7.54it/s]\n",
      "Train: 10 | Rw: -0.262500 | S: 2.500 | V: 2.121 | #: 2\n",
      "100%|█████████████████████████████████████████████| 2/2 [00:00<00:00,  8.04it/s]\n",
      "Train: 11 | Rw: -0.025000 | S: 3.000 | V: 0.000 | #: 2\n",
      "100%|█████████████████████████████████████████████| 2/2 [00:00<00:00,  6.96it/s]\n",
      "Train: 12 | Rw: -0.262500 | S: 2.500 | V: 0.707 | #: 2\n",
      "100%|█████████████████████████████████████████████| 2/2 [00:00<00:00,  7.82it/s]\n",
      "Train: 13 | Rw: 0.000000 | S: 2.000 | V: 0.000 | #: 2\n",
      "100%|█████████████████████████████████████████████| 2/2 [00:00<00:00,  7.62it/s]\n",
      "Train: 14 | Rw: -0.525000 | S: 3.000 | V: 1.414 | #: 2\n",
      "100%|█████████████████████████████████████████████| 2/2 [00:00<00:00,  7.27it/s]\n",
      "Train: 15 | Rw: 0.525000 | S: 1.000 | V: 0.000 | #: 2\n",
      "100%|█████████████████████████████████████████████| 2/2 [00:00<00:00,  7.26it/s]\n",
      "Train: 16 | Rw: -0.025000 | S: 3.000 | V: 1.414 | #: 2\n",
      "  0%|                                                     | 0/2 [00:00<?, ?it/s]^C\n",
      "  0%|                                                     | 0/2 [00:00<?, ?it/s]\n",
      "Traceback (most recent call last):\n",
      "  File \"train_256_A2C.py\", line 205, in <module>\n",
      "    train(epoch)\n",
      "  File \"train_256_A2C.py\", line 104, in train\n",
      "    optimizer_agent.step()\n",
      "  File \"/home/cutz/.local/lib/python3.7/site-packages/torch/autograd/grad_mode.py\", line 15, in decorate_context\n",
      "    return func(*args, **kwargs)\n",
      "  File \"/home/cutz/.local/lib/python3.7/site-packages/torch/optim/adam.py\", line 100, in step\n",
      "    exp_avg_sq.mul_(beta2).addcmul_(grad, grad, value=1 - beta2)\n",
      "KeyboardInterrupt\n"
     ]
    }
   ],
   "source": [
    "!python train_256_A2C.py --lr 1e-4 --cv_dir checkpoints_256_A2C --batch_size 1 --data_dir ./data/ --alpha 0.8 --img_size 128 --test_epoch 10"
   ]
  },
  {
   "cell_type": "code",
   "execution_count": null,
   "metadata": {},
   "outputs": [],
   "source": []
  }
 ],
 "metadata": {
  "kernelspec": {
   "display_name": "Python 3",
   "language": "python",
   "name": "python3"
  },
  "language_info": {
   "codemirror_mode": {
    "name": "ipython",
    "version": 3
   },
   "file_extension": ".py",
   "mimetype": "text/x-python",
   "name": "python",
   "nbconvert_exporter": "python",
   "pygments_lexer": "ipython3",
   "version": "3.7.7"
  }
 },
 "nbformat": 4,
 "nbformat_minor": 4
}
