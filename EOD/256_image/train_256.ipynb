{
 "cells": [
  {
   "cell_type": "markdown",
   "metadata": {},
   "source": [
    "## Jupyter kernel이 Python 2일 경우, 다음 cell을 실행시켜주세요."
   ]
  },
  {
   "cell_type": "code",
   "execution_count": 1,
   "metadata": {},
   "outputs": [],
   "source": [
    "# !python3 -m ipykernel install --user"
   ]
  },
  {
   "cell_type": "markdown",
   "metadata": {},
   "source": [
    "## Jupyter kernel이 Python 3일 경우, 다음 cell부터 실행시켜주세요."
   ]
  },
  {
   "cell_type": "code",
   "execution_count": 2,
   "metadata": {},
   "outputs": [
    {
     "name": "stdout",
     "output_type": "stream",
     "text": [
      "Looking in links: https://download.pytorch.org/whl/torch_stable.html\n",
      "Requirement already satisfied: torch==1.5.1+cu101 in /home/cutz/.local/lib/python3.7/site-packages (1.5.1+cu101)\n",
      "Requirement already satisfied: torchvision==0.6.1+cu101 in /home/cutz/.local/lib/python3.7/site-packages (0.6.1+cu101)\n",
      "Requirement already satisfied: numpy in /home/cutz/.local/lib/python3.7/site-packages (from torch==1.5.1+cu101) (1.19.0)\n",
      "Requirement already satisfied: future in /home/cutz/.local/lib/python3.7/site-packages (from torch==1.5.1+cu101) (0.18.2)\n",
      "Requirement already satisfied: pillow>=4.1.1 in /home/cutz/.local/lib/python3.7/site-packages (from torchvision==0.6.1+cu101) (7.0.0)\n",
      "Requirement already satisfied: pillow==7.0.0 in /home/cutz/.local/lib/python3.7/site-packages (from -r requirements.txt (line 1)) (7.0.0)\n",
      "Requirement already satisfied: tqdm in /home/cutz/.local/lib/python3.7/site-packages (from -r requirements.txt (line 2)) (4.46.1)\n",
      "Requirement already satisfied: opencv-python==4.2.0.34 in /home/cutz/.local/lib/python3.7/site-packages (from -r requirements.txt (line 3)) (4.2.0.34)\n",
      "Requirement already satisfied: pandas in /home/cutz/.local/lib/python3.7/site-packages (from -r requirements.txt (line 4)) (1.0.5)\n",
      "Requirement already satisfied: matplotlib in /home/cutz/.local/lib/python3.7/site-packages (from -r requirements.txt (line 5)) (3.2.2)\n",
      "Requirement already satisfied: numpy>=1.14.5 in /home/cutz/.local/lib/python3.7/site-packages (from opencv-python==4.2.0.34->-r requirements.txt (line 3)) (1.19.0)\n",
      "Requirement already satisfied: python-dateutil>=2.6.1 in /home/cutz/.conda/envs/test2/lib/python3.7/site-packages (from pandas->-r requirements.txt (line 4)) (2.8.1)\n",
      "Requirement already satisfied: pytz>=2017.2 in /home/cutz/.local/lib/python3.7/site-packages (from pandas->-r requirements.txt (line 4)) (2020.1)\n",
      "Requirement already satisfied: cycler>=0.10 in /home/cutz/.local/lib/python3.7/site-packages (from matplotlib->-r requirements.txt (line 5)) (0.10.0)\n",
      "Requirement already satisfied: kiwisolver>=1.0.1 in /home/cutz/.local/lib/python3.7/site-packages (from matplotlib->-r requirements.txt (line 5)) (1.2.0)\n",
      "Requirement already satisfied: pyparsing!=2.0.4,!=2.1.2,!=2.1.6,>=2.0.1 in /home/cutz/.conda/envs/test2/lib/python3.7/site-packages (from matplotlib->-r requirements.txt (line 5)) (2.4.7)\n",
      "Requirement already satisfied: six>=1.5 in /home/cutz/.conda/envs/test2/lib/python3.7/site-packages (from python-dateutil>=2.6.1->pandas->-r requirements.txt (line 4)) (1.15.0)\n"
     ]
    }
   ],
   "source": [
    "!pip install torch==1.5.1+cu101 torchvision==0.6.1+cu101 -f https://download.pytorch.org/whl/torch_stable.html --user\n",
    "!pip install -r requirements.txt --user"
   ]
  },
  {
   "cell_type": "markdown",
   "metadata": {},
   "source": [
    "# RLTraining"
   ]
  },
  {
   "cell_type": "code",
   "execution_count": 3,
   "metadata": {},
   "outputs": [],
   "source": [
    "import warnings\n",
    "warnings.simplefilter(\"ignore\")"
   ]
  },
  {
   "cell_type": "code",
   "execution_count": 4,
   "metadata": {
    "scrolled": true
   },
   "outputs": [
    {
     "name": "stdout",
     "output_type": "stream",
     "text": [
      "GPU device  True\n",
      "100%|█████████████████████████████████████████████| 2/2 [00:00<00:00,  5.52it/s]\n",
      "Train: 0 | Rw: 0.050000 | S: 2.500 | V: 0.707 | #: 2\n",
      "100%|█████████████████████████████████████████████| 2/2 [00:00<00:00,  9.50it/s]\n",
      "Train: 1 | Rw: -0.050000 | S: 1.500 | V: 0.707 | #: 2\n",
      "100%|█████████████████████████████████████████████| 2/2 [00:00<00:00, 10.39it/s]\n",
      "Train: 2 | Rw: -0.650000 | S: 3.000 | V: 1.414 | #: 2\n",
      "100%|█████████████████████████████████████████████| 2/2 [00:00<00:00,  9.33it/s]\n",
      "Train: 3 | Rw: 0.150000 | S: 1.000 | V: 0.000 | #: 2\n",
      "100%|█████████████████████████████████████████████| 2/2 [00:00<00:00, 10.11it/s]\n",
      "Train: 4 | Rw: -0.250000 | S: 2.000 | V: 0.000 | #: 2\n",
      "100%|█████████████████████████████████████████████| 2/2 [00:00<00:00,  9.99it/s]\n",
      "Train: 5 | Rw: 0.150000 | S: 1.000 | V: 0.000 | #: 2\n",
      "100%|█████████████████████████████████████████████| 2/2 [00:00<00:00,  9.94it/s]\n",
      "Train: 6 | Rw: -0.250000 | S: 2.000 | V: 1.414 | #: 2\n",
      "100%|█████████████████████████████████████████████| 2/2 [00:00<00:00, 10.22it/s]\n",
      "Train: 7 | Rw: -0.450000 | S: 2.500 | V: 0.707 | #: 2\n",
      "100%|█████████████████████████████████████████████| 2/2 [00:00<00:00, 10.80it/s]\n",
      "Train: 8 | Rw: 0.050000 | S: 2.500 | V: 0.707 | #: 2\n",
      "100%|█████████████████████████████████████████████| 2/2 [00:00<00:00,  9.37it/s]\n",
      "Train: 9 | Rw: 0.050000 | S: 2.500 | V: 0.707 | #: 2\n",
      "100%|█████████████████████████████████████████████| 2/2 [00:00<00:00,  9.00it/s]\n",
      "Train: 10 | Rw: -0.150000 | S: 3.000 | V: 1.414 | #: 2\n",
      "100%|█████████████████████████████████████████████| 2/2 [00:00<00:00, 10.60it/s]\n",
      "Train: 11 | Rw: 0.050000 | S: 2.500 | V: 0.707 | #: 2\n",
      "100%|█████████████████████████████████████████████| 2/2 [00:00<00:00, 11.10it/s]\n",
      "Train: 12 | Rw: -0.250000 | S: 2.000 | V: 0.000 | #: 2\n",
      "100%|█████████████████████████████████████████████| 2/2 [00:00<00:00,  9.06it/s]\n",
      "Train: 13 | Rw: -0.350000 | S: 3.500 | V: 0.707 | #: 2\n",
      "100%|█████████████████████████████████████████████| 2/2 [00:00<00:00,  9.48it/s]\n",
      "Train: 14 | Rw: 0.050000 | S: 2.500 | V: 0.707 | #: 2\n",
      "100%|█████████████████████████████████████████████| 2/2 [00:00<00:00, 10.50it/s]\n",
      "Train: 15 | Rw: 0.250000 | S: 2.000 | V: 1.414 | #: 2\n",
      "100%|█████████████████████████████████████████████| 2/2 [00:00<00:00, 11.08it/s]\n",
      "Train: 16 | Rw: -0.450000 | S: 2.500 | V: 0.707 | #: 2\n",
      "100%|█████████████████████████████████████████████| 2/2 [00:00<00:00,  9.90it/s]\n",
      "Train: 17 | Rw: -0.450000 | S: 2.500 | V: 2.121 | #: 2\n",
      "100%|█████████████████████████████████████████████| 2/2 [00:00<00:00, 11.66it/s]\n",
      "Train: 18 | Rw: -0.650000 | S: 3.000 | V: 1.414 | #: 2\n",
      "100%|█████████████████████████████████████████████| 2/2 [00:00<00:00, 10.48it/s]\n",
      "Train: 19 | Rw: -0.150000 | S: 3.000 | V: 0.000 | #: 2\n",
      "100%|█████████████████████████████████████████████| 2/2 [00:00<00:00, 10.55it/s]\n",
      "Train: 20 | Rw: -0.650000 | S: 3.000 | V: 1.414 | #: 2\n",
      "100%|█████████████████████████████████████████████| 2/2 [00:00<00:00, 11.02it/s]\n",
      "Train: 21 | Rw: -0.450000 | S: 2.500 | V: 0.707 | #: 2\n",
      "100%|█████████████████████████████████████████████| 2/2 [00:00<00:00,  9.13it/s]\n",
      "Train: 22 | Rw: -0.450000 | S: 2.500 | V: 0.707 | #: 2\n",
      "100%|█████████████████████████████████████████████| 2/2 [00:00<00:00, 11.05it/s]\n",
      "Train: 23 | Rw: -0.050000 | S: 1.500 | V: 0.707 | #: 2\n",
      "100%|█████████████████████████████████████████████| 2/2 [00:00<00:00, 10.45it/s]\n",
      "Train: 24 | Rw: -0.450000 | S: 2.500 | V: 0.707 | #: 2\n",
      "100%|█████████████████████████████████████████████| 2/2 [00:00<00:00, 10.80it/s]\n",
      "Train: 25 | Rw: -0.550000 | S: 4.000 | V: 0.000 | #: 1\n",
      "100%|█████████████████████████████████████████████| 2/2 [00:00<00:00,  9.84it/s]\n",
      "Train: 26 | Rw: -0.650000 | S: 3.000 | V: 0.000 | #: 1\n",
      "100%|█████████████████████████████████████████████| 2/2 [00:00<00:00, 10.73it/s]\n",
      "Train: 27 | Rw: -0.350000 | S: 3.500 | V: 0.707 | #: 2\n",
      "100%|█████████████████████████████████████████████| 2/2 [00:00<00:00, 10.02it/s]\n",
      "Train: 28 | Rw: -0.350000 | S: 3.500 | V: 0.707 | #: 2\n",
      "100%|█████████████████████████████████████████████| 2/2 [00:00<00:00,  8.78it/s]\n",
      "Train: 29 | Rw: -0.850000 | S: 3.500 | V: 0.707 | #: 2\n",
      "100%|█████████████████████████████████████████████| 2/2 [00:00<00:00, 10.48it/s]\n",
      "Train: 30 | Rw: -0.450000 | S: 2.500 | V: 0.707 | #: 2\n",
      "100%|█████████████████████████████████████████████| 2/2 [00:00<00:00,  8.97it/s]\n",
      "Train: 31 | Rw: -0.250000 | S: 2.000 | V: 0.000 | #: 2\n",
      "100%|█████████████████████████████████████████████| 2/2 [00:00<00:00,  9.86it/s]\n",
      "Train: 32 | Rw: -0.650000 | S: 3.000 | V: 1.414 | #: 2\n",
      "100%|█████████████████████████████████████████████| 2/2 [00:00<00:00,  9.58it/s]\n",
      "Train: 33 | Rw: -0.050000 | S: 1.500 | V: 0.707 | #: 2\n",
      "100%|█████████████████████████████████████████████| 2/2 [00:00<00:00,  9.21it/s]\n",
      "Train: 34 | Rw: -0.350000 | S: 3.500 | V: 0.707 | #: 2\n",
      "100%|█████████████████████████████████████████████| 2/2 [00:00<00:00, 11.18it/s]\n",
      "Train: 35 | Rw: -0.850000 | S: 3.500 | V: 0.707 | #: 2\n",
      "100%|█████████████████████████████████████████████| 2/2 [00:00<00:00,  9.26it/s]\n",
      "Train: 36 | Rw: -0.850000 | S: 3.500 | V: 0.707 | #: 2\n",
      "100%|█████████████████████████████████████████████| 2/2 [00:00<00:00, 10.03it/s]\n",
      "Train: 37 | Rw: -0.650000 | S: 3.000 | V: 1.414 | #: 2\n",
      "100%|█████████████████████████████████████████████| 2/2 [00:00<00:00,  9.72it/s]\n",
      "Train: 38 | Rw: -0.350000 | S: 3.500 | V: 0.707 | #: 2\n",
      "100%|█████████████████████████████████████████████| 2/2 [00:00<00:00,  9.91it/s]\n",
      "Train: 39 | Rw: -0.250000 | S: 2.000 | V: 0.000 | #: 2\n",
      "100%|█████████████████████████████████████████████| 2/2 [00:00<00:00, 10.20it/s]\n",
      "Train: 40 | Rw: 0.050000 | S: 2.500 | V: 2.121 | #: 2\n",
      "100%|█████████████████████████████████████████████| 2/2 [00:00<00:00, 11.51it/s]\n",
      "Train: 41 | Rw: 0.050000 | S: 2.500 | V: 2.121 | #: 2\n",
      "100%|█████████████████████████████████████████████| 2/2 [00:00<00:00,  9.86it/s]\n",
      "Train: 42 | Rw: -0.450000 | S: 2.500 | V: 0.707 | #: 2\n",
      "100%|█████████████████████████████████████████████| 2/2 [00:00<00:00,  9.03it/s]\n",
      "Train: 43 | Rw: -0.650000 | S: 3.000 | V: 1.414 | #: 2\n",
      "100%|█████████████████████████████████████████████| 2/2 [00:00<00:00, 11.04it/s]\n",
      "Train: 44 | Rw: -0.850000 | S: 3.500 | V: 0.707 | #: 2\n",
      "100%|█████████████████████████████████████████████| 2/2 [00:00<00:00,  8.51it/s]\n",
      "Train: 45 | Rw: -0.050000 | S: 1.500 | V: 0.707 | #: 2\n",
      "100%|█████████████████████████████████████████████| 2/2 [00:00<00:00,  8.63it/s]\n",
      "Train: 46 | Rw: -0.450000 | S: 2.500 | V: 0.707 | #: 2\n",
      "100%|█████████████████████████████████████████████| 2/2 [00:00<00:00,  9.21it/s]\n",
      "Train: 47 | Rw: -0.850000 | S: 3.500 | V: 0.707 | #: 2\n",
      "100%|█████████████████████████████████████████████| 2/2 [00:00<00:00,  8.90it/s]\n",
      "Train: 48 | Rw: -0.450000 | S: 2.500 | V: 2.121 | #: 2\n",
      "100%|█████████████████████████████████████████████| 2/2 [00:00<00:00,  8.85it/s]\n",
      "Train: 49 | Rw: -0.350000 | S: 3.500 | V: 0.707 | #: 2\n",
      "100%|█████████████████████████████████████████████| 2/2 [00:00<00:00, 11.02it/s]\n",
      "Train: 50 | Rw: -0.250000 | S: 2.000 | V: 1.414 | #: 2\n",
      "100%|█████████████████████████████████████████████| 2/2 [00:00<00:00, 11.89it/s]\n",
      "Train: 51 | Rw: -0.650000 | S: 3.000 | V: 1.414 | #: 2\n",
      "100%|█████████████████████████████████████████████| 2/2 [00:00<00:00,  9.12it/s]\n",
      "Train: 52 | Rw: -0.450000 | S: 2.500 | V: 0.707 | #: 2\n",
      "100%|█████████████████████████████████████████████| 2/2 [00:00<00:00,  8.43it/s]\n",
      "Train: 53 | Rw: -0.850000 | S: 3.500 | V: 0.707 | #: 2\n",
      "100%|█████████████████████████████████████████████| 2/2 [00:00<00:00,  8.65it/s]\n",
      "Train: 54 | Rw: -0.450000 | S: 2.500 | V: 0.707 | #: 2\n",
      "100%|█████████████████████████████████████████████| 2/2 [00:00<00:00, 10.54it/s]\n",
      "Train: 55 | Rw: -0.350000 | S: 3.500 | V: 0.707 | #: 2\n",
      "100%|█████████████████████████████████████████████| 2/2 [00:00<00:00,  8.62it/s]\n",
      "Train: 56 | Rw: -0.050000 | S: 1.500 | V: 0.707 | #: 2\n",
      "100%|█████████████████████████████████████████████| 2/2 [00:00<00:00, 10.60it/s]\n",
      "Train: 57 | Rw: -0.250000 | S: 2.000 | V: 0.000 | #: 2\n",
      "100%|█████████████████████████████████████████████| 2/2 [00:00<00:00,  9.86it/s]\n",
      "Train: 58 | Rw: -0.850000 | S: 3.500 | V: 0.707 | #: 2\n",
      "100%|█████████████████████████████████████████████| 2/2 [00:00<00:00, 10.45it/s]\n",
      "Train: 59 | Rw: -0.550000 | S: 4.000 | V: 0.000 | #: 1\n"
     ]
    },
    {
     "name": "stdout",
     "output_type": "stream",
     "text": [
      "100%|█████████████████████████████████████████████| 2/2 [00:00<00:00, 10.74it/s]\n",
      "Train: 60 | Rw: -0.150000 | S: 3.000 | V: 1.414 | #: 2\n",
      "100%|█████████████████████████████████████████████| 2/2 [00:00<00:00, 10.82it/s]\n",
      "Train: 61 | Rw: 0.050000 | S: 2.500 | V: 0.707 | #: 2\n",
      "100%|█████████████████████████████████████████████| 2/2 [00:00<00:00, 12.04it/s]\n",
      "Train: 62 | Rw: -0.350000 | S: 3.500 | V: 0.707 | #: 2\n",
      "100%|█████████████████████████████████████████████| 2/2 [00:00<00:00,  9.55it/s]\n",
      "Train: 63 | Rw: -0.650000 | S: 3.000 | V: 0.000 | #: 1\n",
      "100%|█████████████████████████████████████████████| 2/2 [00:00<00:00,  8.97it/s]\n",
      "Train: 64 | Rw: -0.650000 | S: 3.000 | V: 0.000 | #: 2\n",
      "100%|█████████████████████████████████████████████| 2/2 [00:00<00:00,  8.70it/s]\n",
      "Train: 65 | Rw: -0.550000 | S: 4.000 | V: 0.000 | #: 1\n",
      "  0%|                                                     | 0/2 [00:00<?, ?it/s]^C\n",
      "  0%|                                                     | 0/2 [00:00<?, ?it/s]\n",
      "Traceback (most recent call last):\n",
      "  File \"train_256.py\", line 197, in <module>\n",
      "    train(epoch)\n",
      "  File \"train_256.py\", line 101, in train\n",
      "    loss.backward()\n",
      "  File \"/home/cutz/.local/lib/python3.7/site-packages/torch/tensor.py\", line 198, in backward\n",
      "    torch.autograd.backward(self, gradient, retain_graph, create_graph)\n",
      "  File \"/home/cutz/.local/lib/python3.7/site-packages/torch/autograd/__init__.py\", line 100, in backward\n",
      "    allow_unreachable=True)  # allow_unreachable flag\n",
      "KeyboardInterrupt\n"
     ]
    }
   ],
   "source": [
    "# GPU:1\n",
    "!python train_256.py --lr 1e-4 --cv_dir checkpoints --batch_size 1 --data_dir ./data/ --alpha 0.8 --img_size 128 --test_epoch 10"
   ]
  },
  {
   "cell_type": "code",
   "execution_count": null,
   "metadata": {},
   "outputs": [],
   "source": []
  }
 ],
 "metadata": {
  "kernelspec": {
   "display_name": "Python 3",
   "language": "python",
   "name": "python3"
  },
  "language_info": {
   "codemirror_mode": {
    "name": "ipython",
    "version": 3
   },
   "file_extension": ".py",
   "mimetype": "text/x-python",
   "name": "python",
   "nbconvert_exporter": "python",
   "pygments_lexer": "ipython3",
   "version": "3.7.7"
  }
 },
 "nbformat": 4,
 "nbformat_minor": 4
}
